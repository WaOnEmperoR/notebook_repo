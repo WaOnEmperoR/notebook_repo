{
 "cells": [
  {
   "cell_type": "code",
   "execution_count": 31,
   "metadata": {},
   "outputs": [],
   "source": [
    "import numpy as np\n",
    "import pandas as pd\n",
    "import sys\n",
    "from sklearn import preprocessing\n",
    "from sklearn.pipeline import FeatureUnion, Pipeline, make_union, make_pipeline\n",
    "from sklearn.preprocessing import FunctionTransformer, LabelEncoder\n",
    "from sklearn import tree\n",
    "import sklearn.model_selection as model_selection"
   ]
  },
  {
   "cell_type": "code",
   "execution_count": 32,
   "metadata": {},
   "outputs": [],
   "source": [
    "class SentenceEmbeddingTransform():\n",
    "    def __init__(self, wordList, vocab, W_norm):\n",
    "        print()\n",
    "        self.wordList = wordList\n",
    "        self.W_norm = W_norm\n",
    "        self.vocab = vocab\n",
    "    \n",
    "    def fit(self, X, y = None):\n",
    "        return self\n",
    "    \n",
    "    def mean_of_word_embedding(self, input_term):\n",
    "        words_inDict = np.empty([0])\n",
    "        \n",
    "        for idx, term in enumerate(input_term.split(' ')):\n",
    "            if term in self.vocab:\n",
    "                words_inDict = np.append(words_inDict, term)\n",
    "                \n",
    "        vec_sentence_embed = [self.W_norm[self.vocab[y], :] for y in words_inDict]\n",
    "        vec_sentence_embed_stack = np.vstack(vec_sentence_embed)\n",
    "        vec_sentence_embed_stack_mean = np.mean(vec_sentence_embed_stack, axis=0)\n",
    "        \n",
    "        return vec_sentence_embed_stack_mean\n",
    "    \n",
    "    def transform(self, X, y = None):\n",
    "        X_ = X.copy()\n",
    "        \n",
    "        ret_array = []\n",
    "        \n",
    "        for sentence in X_:\n",
    "            arr_result = self.mean_of_word_embedding(sentence.lower())\n",
    "            ret_array.append(arr_result)\n",
    "\n",
    "        return np.array(ret_array)\n",
    "    \n",
    "    def fit_transform(self, X, y=None, **fit_params):\n",
    "        self.fit(X, y, **fit_params)\n",
    "        return self.transform(X)"
   ]
  },
  {
   "cell_type": "code",
   "execution_count": 33,
   "metadata": {},
   "outputs": [],
   "source": [
    "class MyLabelEncoder():\n",
    "\n",
    "    def transform(self, X, y=None, **fit_params):\n",
    "        enc = preprocessing.LabelEncoder()\n",
    "        encc = enc.fit(X)\n",
    "        enc_data = enc.transform(X).reshape(-1, 1)\n",
    "\n",
    "        return enc_data\n",
    "\n",
    "    def fit_transform(self, X, y=None, **fit_params):\n",
    "        self.fit(X, y, **fit_params)\n",
    "        return self.transform(X).reshape(-1, 1)\n",
    "\n",
    "    def fit(self, X, y=None, **fit_params):\n",
    "        return self"
   ]
  },
  {
   "cell_type": "code",
   "execution_count": 34,
   "metadata": {},
   "outputs": [],
   "source": [
    "vector_file = \"D:\\\\ARTIFICIAL INTELLIGENCE\\\\2020\\\\Word2Vec\\\\CBOW\\\\TXT\\\\corpus-plus-simral-40-1-vector.txt\"\n",
    "vocab_file = \"D:\\\\ARTIFICIAL INTELLIGENCE\\\\2020\\\\Word2Vec\\\\CBOW\\\\TXT\\\\corpus-plus-simral-40-1-vocab.txt\"\n",
    "\n",
    "with open(vocab_file, 'r', encoding='utf-8') as f:\n",
    "    words = [x.rstrip().split(' ')[0] for x in f.readlines()]\n",
    "    \n",
    "with open(vector_file, 'r', encoding='utf-8') as f:\n",
    "    vectors = {}\n",
    "    for line in f:\n",
    "        vals = line.rstrip().split(' ')\n",
    "        vectors[vals[0]] = [float(x) for x in vals[1:]]\n",
    "\n",
    "vocab_size = len(words)\n",
    "vocab = {w: idx for idx, w in enumerate(words)}\n",
    "ivocab = {idx: w for idx, w in enumerate(words)}\n",
    "\n",
    "vector_dim = len(vectors[ivocab[0]])\n",
    "W = np.zeros((vocab_size, vector_dim))\n",
    "for word, v in vectors.items():\n",
    "    if word == '<unk>':\n",
    "        continue\n",
    "    W[vocab[word], :] = v\n",
    "    \n",
    "W_norm = np.zeros(W.shape)\n",
    "d = (np.sum(W ** 2, 1) ** (0.5))\n",
    "\n",
    "W_norm = (W.T / d).T\n",
    "\n",
    "lst_keys = [y for y in vocab.keys()]"
   ]
  },
  {
   "cell_type": "code",
   "execution_count": 35,
   "metadata": {},
   "outputs": [],
   "source": [
    "csvPath = \"D:\\\\ARTIFICIAL INTELLIGENCE\\\\2020\\\\KLASIFIKASI\\\\labeled_2019_merged_edited.csv\"\n",
    "\n",
    "data = pd.read_csv(csvPath)\n",
    "\n",
    "data['label'] = data['label'].fillna(value=0.0)\n",
    "data.shape\n",
    "\n",
    "data = data.dropna(axis=0, subset=['namaprogram', 'namaoutput', 'namaoutcome', 'namakegiatan', 'satuanoutput', 'satuanoutcome'])"
   ]
  },
  {
   "cell_type": "code",
   "execution_count": 70,
   "metadata": {},
   "outputs": [
    {
     "name": "stdout",
     "output_type": "stream",
     "text": [
      "\n",
      "\n",
      "\n",
      "\n"
     ]
    }
   ],
   "source": [
    "def get_text_satuan_outcome(df):\n",
    "    return df['satuanoutcome']\n",
    "\n",
    "def get_text_satuan_output(df):\n",
    "    return df['satuanoutput']\n",
    "\n",
    "def get_text_nama_program(df):\n",
    "    return df['namaprogram']\n",
    "\n",
    "def get_text_nama_kegiatan(df):\n",
    "    return df['namakegiatan']\n",
    "\n",
    "def get_text_nama_output(df):\n",
    "    return df['namaoutput']\n",
    "\n",
    "def get_text_nama_outcome(df):\n",
    "    return df['namaoutcome']\n",
    "\n",
    "vec = make_union(*[\n",
    "    make_pipeline(FunctionTransformer(get_text_satuan_outcome, validate=False), MyLabelEncoder()),\n",
    "    make_pipeline(FunctionTransformer(get_text_satuan_output, validate=False), MyLabelEncoder()),\n",
    "    make_pipeline(FunctionTransformer(get_text_nama_program, validate=False), SentenceEmbeddingTransform(lst_keys, vocab, W_norm)),\n",
    "    make_pipeline(FunctionTransformer(get_text_nama_kegiatan, validate=False), SentenceEmbeddingTransform(lst_keys, vocab, W_norm)),\n",
    "    make_pipeline(FunctionTransformer(get_text_nama_output, validate=False), SentenceEmbeddingTransform(lst_keys, vocab, W_norm)),\n",
    "    make_pipeline(FunctionTransformer(get_text_nama_outcome, validate=False), SentenceEmbeddingTransform(lst_keys, vocab, W_norm))\n",
    "])"
   ]
  },
  {
   "cell_type": "code",
   "execution_count": 37,
   "metadata": {},
   "outputs": [],
   "source": [
    "neo_pipeline = Pipeline([\n",
    "    ('thevec', vec),\n",
    "    ('dectree', tree.DecisionTreeClassifier())  # classifier\n",
    "])\n",
    "\n",
    "data_column_used = data[['namaprogram', 'satuanoutcome', 'satuanoutput', 'namakegiatan', 'namaoutput', 'namaoutcome']]\n",
    "data_target = data['label'].astype(int)"
   ]
  },
  {
   "cell_type": "code",
   "execution_count": 65,
   "metadata": {},
   "outputs": [],
   "source": [
    "X_train, X_test, y_train, y_test = model_selection.train_test_split(data_column_used, data_target, train_size=0.9,test_size=0.1,random_state=42)\n",
    "\n",
    "neo_pipeline.fit(X_train, y_train)\n",
    "\n",
    "labels = neo_pipeline.predict(X_test)"
   ]
  },
  {
   "cell_type": "code",
   "execution_count": 66,
   "metadata": {},
   "outputs": [
    {
     "data": {
      "text/plain": [
       "<matplotlib.axes._subplots.AxesSubplot at 0x2c2cd733278>"
      ]
     },
     "execution_count": 66,
     "metadata": {},
     "output_type": "execute_result"
    },
    {
     "data": {
      "image/png": "[encoded data removed]",
      "text/plain": [
       "<Figure size 432x288 with 1 Axes>"
      ]
     },
     "metadata": {
      "needs_background": "light"
     },
     "output_type": "display_data"
    }
   ],
   "source": [
    "from sklearn.metrics import confusion_matrix\n",
    "import seaborn as sns\n",
    "import matplotlib as plt\n",
    "mat = confusion_matrix(labels, y_test)\n",
    "\n",
    "sns.heatmap(mat.T, square=True, annot=True, fmt='d', cbar=False,\n",
    "            xticklabels=['0', '1'], yticklabels=['0', '1'])"
   ]
  },
  {
   "cell_type": "code",
   "execution_count": 67,
   "metadata": {},
   "outputs": [
    {
     "data": {
      "text/plain": [
       "0.9948979591836735"
      ]
     },
     "execution_count": 67,
     "metadata": {},
     "output_type": "execute_result"
    }
   ],
   "source": [
    "from sklearn.metrics import accuracy_score\n",
    "\n",
    "accuracy_score(y_test, labels)"
   ]
  },
  {
   "cell_type": "code",
   "execution_count": 68,
   "metadata": {},
   "outputs": [
    {
     "name": "stdout",
     "output_type": "stream",
     "text": [
      "              precision    recall  f1-score   support\n",
      "\n",
      "     non-doc       1.00      0.99      1.00       194\n",
      "         doc       0.67      1.00      0.80         2\n",
      "\n",
      "    accuracy                           0.99       196\n",
      "   macro avg       0.83      1.00      0.90       196\n",
      "weighted avg       1.00      0.99      1.00       196\n",
      "\n"
     ]
    }
   ],
   "source": [
    "from sklearn.metrics import classification_report\n",
    "\n",
    "print (classification_report(y_test, labels, target_names=['non-doc', 'doc']))"
   ]
  },
  {
   "cell_type": "code",
   "execution_count": 69,
   "metadata": {},
   "outputs": [
    {
     "data": {
      "text/plain": [
       "['mowe_pipeline_model.pkl']"
      ]
     },
     "execution_count": 69,
     "metadata": {},
     "output_type": "execute_result"
    }
   ],
   "source": [
    "import joblib\n",
    "joblib.dump(neo_pipeline, 'mowe_pipeline_model.pkl') "
   ]
  },
  {
   "cell_type": "code",
   "execution_count": null,
   "metadata": {},
   "outputs": [],
   "source": []
  }
 ],
 "metadata": {
  "kernelspec": {
   "display_name": "Python 3",
   "language": "python",
   "name": "python3"
  },
  "language_info": {
   "codemirror_mode": {
    "name": "ipython",
    "version": 3
   },
   "file_extension": ".py",
   "mimetype": "text/x-python",
   "name": "python",
   "nbconvert_exporter": "python",
   "pygments_lexer": "ipython3",
   "version": "3.7.3"
  }
 },
 "nbformat": 4,
 "nbformat_minor": 4
}
