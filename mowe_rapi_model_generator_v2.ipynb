{
 "cells": [
  {
   "cell_type": "code",
   "execution_count": 295,
   "metadata": {},
   "outputs": [],
   "source": [
    "import numpy as np\n",
    "import pandas as pd\n",
    "import sys\n",
    "from sklearn import preprocessing\n",
    "from sklearn.pipeline import FeatureUnion, Pipeline, make_union, make_pipeline\n",
    "from sklearn.preprocessing import FunctionTransformer, LabelEncoder\n",
    "from sklearn import tree\n",
    "import sklearn.model_selection as model_selection\n",
    "import re"
   ]
  },
  {
   "cell_type": "code",
   "execution_count": 296,
   "metadata": {},
   "outputs": [],
   "source": [
    "class SentenceEmbeddingTransform():\n",
    "    def __init__(self, vocab, W_norm):\n",
    "        self.W_norm = W_norm\n",
    "        self.vocab = vocab\n",
    "    \n",
    "    def fit(self, X, y = None):\n",
    "        return self\n",
    "    \n",
    "    def mean_of_word_embedding(self, input_term):\n",
    "        words_inDict = np.empty([0])\n",
    "        \n",
    "        for idx, term in enumerate(re.split(' +', input_term)):\n",
    "            if term in self.vocab:\n",
    "                words_inDict = np.append(words_inDict, term)\n",
    "                \n",
    "        vec_sentence_embed = [self.W_norm[self.vocab[y], :] for y in words_inDict]\n",
    "        vec_sentence_embed_stack = np.vstack(vec_sentence_embed)\n",
    "        vec_sentence_embed_stack_mean = np.mean(vec_sentence_embed_stack, axis=0)\n",
    "        \n",
    "        return vec_sentence_embed_stack_mean\n",
    "    \n",
    "    def transform(self, X, y = None):\n",
    "        ret_array = []\n",
    "        \n",
    "        for sentence in X:\n",
    "            arr_result = self.mean_of_word_embedding(sentence.lower())\n",
    "            ret_array.append(arr_result)\n",
    "\n",
    "        return np.array(ret_array)\n",
    "    \n",
    "    def fit_transform(self, X, y=None, **fit_params):\n",
    "        self.fit(X, y, **fit_params)\n",
    "        return self.transform(X)"
   ]
  },
  {
   "cell_type": "code",
   "execution_count": 297,
   "metadata": {},
   "outputs": [],
   "source": [
    "class LabelMappingTransform():\n",
    "    def fit(self, X, y = None):\n",
    "        return self\n",
    "    \n",
    "    def transform(self, X, y = None):\n",
    "        return np.array(X).reshape(-1, 1)\n",
    "    \n",
    "    def fit_transform(self, X, y=None, **fit_params):\n",
    "        self.fit(X, y, **fit_params)\n",
    "        return self.transform(X).reshape(-1, 1)\n"
   ]
  },
  {
   "cell_type": "code",
   "execution_count": 298,
   "metadata": {},
   "outputs": [],
   "source": [
    "class MyLabelEncoder():\n",
    "\n",
    "    def transform(self, X, y=None, **fit_params):\n",
    "        enc = preprocessing.LabelEncoder()\n",
    "        encc = enc.fit(X)\n",
    "        enc_data = enc.transform(X).reshape(-1, 1)\n",
    "\n",
    "        return enc_data\n",
    "\n",
    "    def fit_transform(self, X, y=None, **fit_params):\n",
    "        self.fit(X, y, **fit_params)\n",
    "        return self.transform(X).reshape(-1, 1)\n",
    "\n",
    "    def fit(self, X, y=None, **fit_params):\n",
    "        return self"
   ]
  },
  {
   "cell_type": "code",
   "execution_count": 299,
   "metadata": {},
   "outputs": [],
   "source": [
    "vector_file = \"D:\\\\ARTIFICIAL INTELLIGENCE\\\\2020\\\\Word2Vec\\\\CBOW\\\\TXT\\\\corpus-plus-simral-40-1-vector.txt\"\n",
    "vocab_file = \"D:\\\\ARTIFICIAL INTELLIGENCE\\\\2020\\\\Word2Vec\\\\CBOW\\\\TXT\\\\corpus-plus-simral-40-1-vocab.txt\"\n",
    "\n",
    "with open(vocab_file, 'r', encoding='utf-8') as f:\n",
    "    words = [x.rstrip().split(' ')[0] for x in f.readlines()]\n",
    "    \n",
    "with open(vector_file, 'r', encoding='utf-8') as f:\n",
    "    vectors = {}\n",
    "    for line in f:\n",
    "        vals = line.rstrip().split(' ')\n",
    "        vectors[vals[0]] = [float(x) for x in vals[1:]]\n",
    "\n",
    "vocab_size = len(words)\n",
    "vocab = {w: idx for idx, w in enumerate(words)}\n",
    "ivocab = {idx: w for idx, w in enumerate(words)}\n",
    "\n",
    "vector_dim = len(vectors[ivocab[0]])\n",
    "W = np.zeros((vocab_size, vector_dim))\n",
    "for word, v in vectors.items():\n",
    "    if word == '<unk>':\n",
    "        continue\n",
    "    W[vocab[word], :] = v\n",
    "    \n",
    "W_norm = np.zeros(W.shape)\n",
    "d = (np.sum(W ** 2, 1) ** (0.5))\n",
    "\n",
    "W_norm = (W.T / d).T\n"
   ]
  },
  {
   "cell_type": "code",
   "execution_count": 300,
   "metadata": {},
   "outputs": [],
   "source": [
    "csvPath = \"D:\\\\ARTIFICIAL INTELLIGENCE\\\\2020\\\\KLASIFIKASI\\\\labeled_2019_merged - Copy.csv\"\n",
    "\n",
    "data = pd.read_csv(csvPath)\n",
    "\n",
    "data['label'] = data['label'].fillna(value=0.0)\n",
    "data.shape\n",
    "\n",
    "data = data.dropna(axis=0, subset=['namaprogram', 'namaoutput', 'namaoutcome', 'namakegiatan', 'satuanoutput', 'satuanoutcome'])"
   ]
  },
  {
   "cell_type": "code",
   "execution_count": 301,
   "metadata": {},
   "outputs": [],
   "source": [
    "import re\n",
    "\n",
    "# drop digit in sentences\n",
    "data['clean_namaoutcome'] = data['namaoutcome'].str.lower().apply(lambda input_term : re.sub('[0-9,;\\/]+', '', input_term))\n",
    "data['clean_namaoutput'] = data['namaoutput'].str.lower().apply(lambda input_term : re.sub('[0-9,;\\/]+', '', input_term))\n",
    "data['clean_namaprogram'] = data['namaprogram'].str.lower().apply(lambda input_term : re.sub('[0-9,;\\/]+', '', input_term))\n",
    "data['clean_namakegiatan'] = data['namakegiatan'].str.lower().apply(lambda input_term : re.sub('[0-9,;\\/]+', '', input_term))"
   ]
  },
  {
   "cell_type": "code",
   "execution_count": 302,
   "metadata": {},
   "outputs": [],
   "source": [
    "sat_outcome_unique = data['satuanoutcome'].str.lower().unique()\n",
    "sat_output_unique = data['satuanoutput'].str.lower().unique()\n",
    "\n",
    "dict_sat_outcome = {}\n",
    "\n",
    "for i in range(len(sat_outcome_unique)):\n",
    "    dict_sat_outcome[sat_outcome_unique[i]] = i\n",
    "    \n",
    "dict_sat_output = {}\n",
    "\n",
    "for j in range(len(sat_output_unique)):\n",
    "    dict_sat_output[sat_output_unique[j]] = j "
   ]
  },
  {
   "cell_type": "code",
   "execution_count": 303,
   "metadata": {},
   "outputs": [],
   "source": [
    "data['label_satuanoutcome'] = data['satuanoutcome'].str.lower().apply(lambda x : dict_sat_outcome[x])\n",
    "data['label_satuanoutput'] = data['satuanoutput'].str.lower().apply(lambda x : dict_sat_output[x])"
   ]
  },
  {
   "cell_type": "code",
   "execution_count": 304,
   "metadata": {},
   "outputs": [],
   "source": [
    "np.save('dict_satuanoutcome.npy', dict_sat_outcome) \n",
    "np.save('dict_satuanoutput.npy', dict_sat_output) "
   ]
  },
  {
   "cell_type": "code",
   "execution_count": 305,
   "metadata": {},
   "outputs": [],
   "source": [
    "def get_label_satuan_outcome(df):\n",
    "    return df['label_satuanoutcome']\n",
    "\n",
    "def get_label_satuan_output(df):\n",
    "    return df['label_satuanoutput']\n",
    "\n",
    "def get_text_satuan_outcome(df):\n",
    "    return df['satuanoutcome']\n",
    "\n",
    "def get_text_satuan_output(df):\n",
    "    return df['satuanoutput']\n",
    "\n",
    "def get_text_nama_program(df):\n",
    "    return df['clean_namaprogram']\n",
    "\n",
    "def get_text_nama_kegiatan(df):\n",
    "    return df['clean_namakegiatan']\n",
    "\n",
    "def get_text_nama_output(df):\n",
    "    return df['clean_namaoutput']\n",
    "\n",
    "def get_text_nama_outcome(df):\n",
    "    return df['clean_namaoutcome']\n",
    "\n",
    "vec = make_union(*[\n",
    "#     make_pipeline(FunctionTransformer(get_text_satuan_outcome, validate=False), MyLabelEncoder()),\n",
    "#     make_pipeline(FunctionTransformer(get_text_satuan_output, validate=False), MyLabelEncoder()),\n",
    "    make_pipeline(FunctionTransformer(get_label_satuan_outcome, validate=False), LabelMappingTransform()),\n",
    "    make_pipeline(FunctionTransformer(get_label_satuan_output, validate=False), LabelMappingTransform()),\n",
    "    make_pipeline(FunctionTransformer(get_text_nama_program, validate=False), SentenceEmbeddingTransform(vocab, W_norm)),\n",
    "    make_pipeline(FunctionTransformer(get_text_nama_kegiatan, validate=False), SentenceEmbeddingTransform(vocab, W_norm)),\n",
    "    make_pipeline(FunctionTransformer(get_text_nama_output, validate=False), SentenceEmbeddingTransform(vocab, W_norm)),\n",
    "    make_pipeline(FunctionTransformer(get_text_nama_outcome, validate=False), SentenceEmbeddingTransform(vocab, W_norm))\n",
    "])"
   ]
  },
  {
   "cell_type": "code",
   "execution_count": 306,
   "metadata": {},
   "outputs": [],
   "source": [
    "neo_pipeline = Pipeline([\n",
    "    ('thevec', vec),\n",
    "    ('dectree', tree.DecisionTreeClassifier())  # classifier\n",
    "])\n",
    "\n",
    "data_column_used = data[['clean_namaprogram', 'label_satuanoutcome', 'label_satuanoutput', 'clean_namakegiatan', 'clean_namaoutput', 'clean_namaoutcome', 'satuanoutcome', 'satuanoutput']]\n",
    "data_target = data['label'].astype(int)"
   ]
  },
  {
   "cell_type": "code",
   "execution_count": 323,
   "metadata": {},
   "outputs": [],
   "source": [
    "X_train, X_test, y_train, y_test = model_selection.train_test_split(data_column_used, data_target, test_size=0.1,random_state=42)\n"
   ]
  },
  {
   "cell_type": "code",
   "execution_count": 324,
   "metadata": {},
   "outputs": [
    {
     "data": {
      "text/plain": [
       "(1803, 8)"
      ]
     },
     "execution_count": 324,
     "metadata": {},
     "output_type": "execute_result"
    }
   ],
   "source": [
    "neo_pipeline.fit(X_train, y_train)\n",
    "\n",
    "labels = neo_pipeline.predict(X_test)\n",
    "\n",
    "X_train.shape"
   ]
  },
  {
   "cell_type": "code",
   "execution_count": 325,
   "metadata": {},
   "outputs": [
    {
     "data": {
      "text/plain": [
       "<matplotlib.axes._subplots.AxesSubplot at 0x2981339af28>"
      ]
     },
     "execution_count": 325,
     "metadata": {},
     "output_type": "execute_result"
    },
    {
     "data": {
      "image/png": "[encoded data removed]",
      "text/plain": [
       "<Figure size 432x288 with 1 Axes>"
      ]
     },
     "metadata": {
      "needs_background": "light"
     },
     "output_type": "display_data"
    }
   ],
   "source": [
    "from sklearn.metrics import confusion_matrix\n",
    "import seaborn as sns\n",
    "import matplotlib as plt\n",
    "mat = confusion_matrix(labels, y_test)\n",
    "\n",
    "sns.heatmap(mat.T, square=True, annot=True, fmt='d', cbar=False,\n",
    "            xticklabels=['0', '1'], yticklabels=['0', '1'])"
   ]
  },
  {
   "cell_type": "code",
   "execution_count": 326,
   "metadata": {},
   "outputs": [
    {
     "data": {
      "text/plain": [
       "0.945273631840796"
      ]
     },
     "execution_count": 326,
     "metadata": {},
     "output_type": "execute_result"
    }
   ],
   "source": [
    "from sklearn.metrics import accuracy_score\n",
    "\n",
    "accuracy_score(y_test, labels)"
   ]
  },
  {
   "cell_type": "code",
   "execution_count": 327,
   "metadata": {},
   "outputs": [
    {
     "name": "stdout",
     "output_type": "stream",
     "text": [
      "              precision    recall  f1-score   support\n",
      "\n",
      "     non-doc       0.97      0.97      0.97       185\n",
      "         doc       0.67      0.62      0.65        16\n",
      "\n",
      "    accuracy                           0.95       201\n",
      "   macro avg       0.82      0.80      0.81       201\n",
      "weighted avg       0.94      0.95      0.94       201\n",
      "\n"
     ]
    }
   ],
   "source": [
    "from sklearn.metrics import classification_report\n",
    "\n",
    "print (classification_report(y_test, labels, target_names=['non-doc', 'doc']))"
   ]
  },
  {
   "cell_type": "code",
   "execution_count": 330,
   "metadata": {},
   "outputs": [
    {
     "data": {
      "text/plain": [
       "['mowe_pipeline_model_train.pkl']"
      ]
     },
     "execution_count": 330,
     "metadata": {},
     "output_type": "execute_result"
    }
   ],
   "source": [
    "import joblib\n",
    "joblib.dump(neo_pipeline, 'mowe_pipeline_model_train.pkl') "
   ]
  },
  {
   "cell_type": "code",
   "execution_count": null,
   "metadata": {},
   "outputs": [],
   "source": []
  }
 ],
 "metadata": {
  "kernelspec": {
   "display_name": "Python 3",
   "language": "python",
   "name": "python3"
  },
  "language_info": {
   "codemirror_mode": {
    "name": "ipython",
    "version": 3
   },
   "file_extension": ".py",
   "mimetype": "text/x-python",
   "name": "python",
   "nbconvert_exporter": "python",
   "pygments_lexer": "ipython3",
   "version": "3.7.3"
  }
 },
 "nbformat": 4,
 "nbformat_minor": 4
}
