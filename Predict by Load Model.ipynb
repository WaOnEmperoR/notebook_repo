{
 "cells": [
  {
   "cell_type": "code",
   "execution_count": 19,
   "metadata": {},
   "outputs": [
    {
     "name": "stdout",
     "output_type": "stream",
     "text": [
      "(195, 33)\n",
      "(170, 33)\n"
     ]
    }
   ],
   "source": [
    "import pandas as pd\n",
    "import numpy as np\n",
    "from sklearn import preprocessing\n",
    "from sklearn.feature_extraction.text import TfidfTransformer\n",
    "from sklearn.feature_extraction.text import CountVectorizer\n",
    "\n",
    "csvPath = \"D:\\\\ARTIFICIAL INTELLIGENCE\\\\2020\\\\KLASIFIKASI\\\\bantul_2019_Rachmawan_onlyPart.csv\"\n",
    "\n",
    "data = pd.read_csv(csvPath)\n",
    "\n",
    "data['label'] = data['label'].fillna(value=0.0)\n",
    "print (data.shape)\n",
    "\n",
    "data = data.dropna(axis=0, subset=['namaoutput', 'namaoutcome', 'namaprogram', 'namakegiatan', 'satuanoutput', 'satuanoutcome'])\n",
    "print (data.shape)"
   ]
  },
  {
   "cell_type": "code",
   "execution_count": 20,
   "metadata": {},
   "outputs": [],
   "source": [
    "class MyLabelEncoder():\n",
    "\n",
    "    def transform(self, X, y=None, **fit_params):\n",
    "        enc = preprocessing.LabelEncoder()\n",
    "        encc = enc.fit(X)\n",
    "        enc_data = enc.transform(X).reshape(-1, 1)\n",
    "\n",
    "        return enc_data\n",
    "\n",
    "    def fit_transform(self, X, y=None, **fit_params):\n",
    "        self.fit(X, y, **fit_params)\n",
    "        return self.transform(X).reshape(-1, 1)\n",
    "\n",
    "    def fit(self, X, y=None, **fit_params):\n",
    "        return self"
   ]
  },
  {
   "cell_type": "code",
   "execution_count": 21,
   "metadata": {},
   "outputs": [],
   "source": [
    "from sklearn.pipeline import make_union, make_pipeline\n",
    "from sklearn.preprocessing import FunctionTransformer, LabelEncoder\n",
    "from sklearn.feature_extraction.text import TfidfVectorizer\n",
    "import joblib\n",
    "\n",
    "def get_text_satuan_outcome(df):\n",
    "    return df['satuanoutcome']\n",
    "\n",
    "def get_text_satuan_output(df):\n",
    "    return df['satuanoutput']\n",
    "\n",
    "def get_text_nama_program(df):\n",
    "    return df['namaprogram']\n",
    "\n",
    "def get_text_nama_kegiatan(df):\n",
    "    return df['namakegiatan']\n",
    "\n",
    "def get_text_nama_output(df):\n",
    "    return df['namaoutput']\n",
    "\n",
    "def get_text_nama_outcome(df):\n",
    "    return df['namaoutcome']"
   ]
  },
  {
   "cell_type": "code",
   "execution_count": 22,
   "metadata": {},
   "outputs": [],
   "source": [
    "joblib_model = joblib.load('neo_pipeline.pkl')"
   ]
  },
  {
   "cell_type": "code",
   "execution_count": 23,
   "metadata": {},
   "outputs": [],
   "source": [
    "data_column_used = data[['namaprogram', 'satuanoutcome', 'satuanoutput', 'namakegiatan', 'namaoutput', 'namaoutcome']]"
   ]
  },
  {
   "cell_type": "code",
   "execution_count": 24,
   "metadata": {},
   "outputs": [],
   "source": [
    "data_target = data['label'].astype(int)"
   ]
  },
  {
   "cell_type": "code",
   "execution_count": 25,
   "metadata": {},
   "outputs": [],
   "source": [
    "labels_pred = joblib_model.predict(data_column_used)"
   ]
  },
  {
   "cell_type": "code",
   "execution_count": 26,
   "metadata": {},
   "outputs": [
    {
     "data": {
      "text/plain": [
       "<matplotlib.axes._subplots.AxesSubplot at 0x1a4488bf898>"
      ]
     },
     "execution_count": 26,
     "metadata": {},
     "output_type": "execute_result"
    },
    {
     "data": {
      "image/png": "[encoded data removed]",
      "text/plain": [
       "<Figure size 432x288 with 1 Axes>"
      ]
     },
     "metadata": {
      "needs_background": "light"
     },
     "output_type": "display_data"
    }
   ],
   "source": [
    "from sklearn.metrics import confusion_matrix\n",
    "import seaborn as sns\n",
    "import matplotlib as plt\n",
    "mat = confusion_matrix(labels_pred, data_target)\n",
    "\n",
    "sns.heatmap(mat.T, square=True, annot=True, fmt='d', cbar=False,\n",
    "            xticklabels=['0', '1'], yticklabels=['0', '1'])"
   ]
  },
  {
   "cell_type": "code",
   "execution_count": 27,
   "metadata": {},
   "outputs": [
    {
     "data": {
      "text/plain": [
       "0.888235294117647"
      ]
     },
     "execution_count": 27,
     "metadata": {},
     "output_type": "execute_result"
    }
   ],
   "source": [
    "from sklearn.metrics import accuracy_score\n",
    "\n",
    "accuracy_score(labels_pred, data_target)"
   ]
  },
  {
   "cell_type": "code",
   "execution_count": 28,
   "metadata": {},
   "outputs": [
    {
     "name": "stdout",
     "output_type": "stream",
     "text": [
      "              precision    recall  f1-score   support\n",
      "\n",
      "     non-doc       0.99      0.90      0.94       167\n",
      "         doc       0.06      0.33      0.10         3\n",
      "\n",
      "    accuracy                           0.89       170\n",
      "   macro avg       0.52      0.62      0.52       170\n",
      "weighted avg       0.97      0.89      0.93       170\n",
      "\n"
     ]
    }
   ],
   "source": [
    "from sklearn.metrics import classification_report\n",
    "\n",
    "print (classification_report(labels_pred, data_target, target_names=['non-doc', 'doc']))"
   ]
  },
  {
   "cell_type": "code",
   "execution_count": null,
   "metadata": {},
   "outputs": [],
   "source": []
  }
 ],
 "metadata": {
  "kernelspec": {
   "display_name": "Python 3",
   "language": "python",
   "name": "python3"
  },
  "language_info": {
   "codemirror_mode": {
    "name": "ipython",
    "version": 3
   },
   "file_extension": ".py",
   "mimetype": "text/x-python",
   "name": "python",
   "nbconvert_exporter": "python",
   "pygments_lexer": "ipython3",
   "version": "3.7.3"
  }
 },
 "nbformat": 4,
 "nbformat_minor": 4
}
