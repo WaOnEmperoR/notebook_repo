{
 "cells": [
  {
   "cell_type": "code",
   "execution_count": 124,
   "metadata": {},
   "outputs": [],
   "source": [
    "import numpy as np\n",
    "import pandas as pd\n",
    "import sys\n",
    "from sklearn import preprocessing\n",
    "from sklearn.pipeline import FeatureUnion, Pipeline, make_union, make_pipeline\n",
    "from sklearn.preprocessing import FunctionTransformer, LabelEncoder\n",
    "from sklearn import tree\n",
    "import sklearn.model_selection as model_selection\n",
    "import joblib\n",
    "import re"
   ]
  },
  {
   "cell_type": "code",
   "execution_count": 125,
   "metadata": {},
   "outputs": [],
   "source": [
    "# Load dictionaries from previous training\n",
    "dict_satuanoutcome_big = np.load('dict_satuanoutcome.npy',allow_pickle='TRUE').item()\n",
    "dict_satuanoutput_big = np.load('dict_satuanoutput.npy',allow_pickle='TRUE').item()"
   ]
  },
  {
   "cell_type": "code",
   "execution_count": 126,
   "metadata": {},
   "outputs": [
    {
     "data": {
      "text/plain": [
       "(1336, 33)"
      ]
     },
     "execution_count": 126,
     "metadata": {},
     "output_type": "execute_result"
    }
   ],
   "source": [
    "csvPath = \"D:\\\\ARTIFICIAL INTELLIGENCE\\\\2020\\\\KLASIFIKASI\\\\Bantul_edited.csv\"\n",
    "\n",
    "data = pd.read_csv(csvPath, encoding= 'unicode_escape')\n",
    "\n",
    "data['Class'] = data['Class'].fillna(value=0.0)\n",
    "data.shape\n",
    "\n",
    "# drop nulls\n",
    "data = data.dropna(axis=0, subset=['namaoutput', 'namaprogram', 'namaoutcome', 'namakegiatan', 'satuanoutput', 'satuanoutcome'])\n",
    "\n",
    "data.shape"
   ]
  },
  {
   "cell_type": "code",
   "execution_count": 127,
   "metadata": {},
   "outputs": [],
   "source": [
    "import re\n",
    "\n",
    "# drop digit in sentences\n",
    "data['clean_namaoutcome'] = data['namaoutcome'].str.lower().apply(lambda input_term : re.sub('[0-9,;\\/]+', '', input_term))\n",
    "data['clean_namaoutput'] = data['namaoutput'].str.lower().apply(lambda input_term : re.sub('[0-9,;\\/]+', '', input_term))\n",
    "data['clean_namaprogram'] = data['namaprogram'].str.lower().apply(lambda input_term : re.sub('[0-9,;\\/]+', '', input_term))\n",
    "data['clean_namakegiatan'] = data['namakegiatan'].str.lower().apply(lambda input_term : re.sub('[0-9,;\\/]+', '', input_term))\n"
   ]
  },
  {
   "cell_type": "code",
   "execution_count": 128,
   "metadata": {},
   "outputs": [],
   "source": [
    "vector_file = \"D:\\\\ARTIFICIAL INTELLIGENCE\\\\2020\\\\Word2Vec\\\\CBOW\\\\TXT\\\\corpus-plus-simral-40-1-vector.txt\"\n",
    "vocab_file = \"D:\\\\ARTIFICIAL INTELLIGENCE\\\\2020\\\\Word2Vec\\\\CBOW\\\\TXT\\\\corpus-plus-simral-40-1-vocab.txt\"\n",
    "\n",
    "with open(vocab_file, 'r', encoding='utf-8') as f:\n",
    "    words = [x.rstrip().split(' ')[0] for x in f.readlines()]\n",
    "    \n",
    "with open(vector_file, 'r', encoding='utf-8') as f:\n",
    "    vectors = {}\n",
    "    for line in f:\n",
    "        vals = line.rstrip().split(' ')\n",
    "        vectors[vals[0]] = [float(x) for x in vals[1:]]\n",
    "\n",
    "vocab_size = len(words)\n",
    "vocab = {w: idx for idx, w in enumerate(words)}\n",
    "ivocab = {idx: w for idx, w in enumerate(words)}\n",
    "\n",
    "vector_dim = len(vectors[ivocab[0]])\n",
    "W = np.zeros((vocab_size, vector_dim))\n",
    "for word, v in vectors.items():\n",
    "    if word == '<unk>':\n",
    "        continue\n",
    "    W[vocab[word], :] = v\n",
    "    \n",
    "W_norm = np.zeros(W.shape)\n",
    "d = (np.sum(W ** 2, 1) ** (0.5))\n",
    "\n",
    "W_norm = (W.T / d).T\n",
    "\n",
    "lst_keys = [y for y in vocab.keys()]"
   ]
  },
  {
   "cell_type": "code",
   "execution_count": 129,
   "metadata": {},
   "outputs": [],
   "source": [
    "def calculate_vocab_in_list(input_term):\n",
    "    count_words = 0\n",
    "    for idx, term in enumerate(input_term.split(' ')):\n",
    "        if term in vocab:\n",
    "            count_words = count_words + 1\n",
    "    \n",
    "    return count_words"
   ]
  },
  {
   "cell_type": "code",
   "execution_count": 130,
   "metadata": {},
   "outputs": [],
   "source": [
    "# calculate words that is not OOV in each sentences\n",
    "# we should remove the sentences which all of words in it is/are OOV\n",
    "data['count_vocab_namaoutput'] = data['clean_namaoutput'].str.lower().apply(lambda input_term : calculate_vocab_in_list(input_term))\n",
    "data['count_vocab_namaoutcome'] = data['clean_namaoutcome'].str.lower().apply(lambda input_term : calculate_vocab_in_list(input_term))\n",
    "data['count_vocab_namakegiatan'] = data['clean_namakegiatan'].str.lower().apply(lambda input_term : calculate_vocab_in_list(input_term))\n",
    "data['count_vocab_namaprogram'] = data['clean_namaprogram'].str.lower().apply(lambda input_term : calculate_vocab_in_list(input_term))"
   ]
  },
  {
   "cell_type": "code",
   "execution_count": 131,
   "metadata": {},
   "outputs": [
    {
     "data": {
      "text/html": [
       "<div>\n",
       "<style scoped>\n",
       "    .dataframe tbody tr th:only-of-type {\n",
       "        vertical-align: middle;\n",
       "    }\n",
       "\n",
       "    .dataframe tbody tr th {\n",
       "        vertical-align: top;\n",
       "    }\n",
       "\n",
       "    .dataframe thead th {\n",
       "        text-align: right;\n",
       "    }\n",
       "</style>\n",
       "<table border=\"1\" class=\"dataframe\">\n",
       "  <thead>\n",
       "    <tr style=\"text-align: right;\">\n",
       "      <th></th>\n",
       "      <th>count_vocab_namaoutput</th>\n",
       "      <th>count_vocab_namaoutcome</th>\n",
       "      <th>count_vocab_namakegiatan</th>\n",
       "      <th>count_vocab_namaprogram</th>\n",
       "    </tr>\n",
       "  </thead>\n",
       "  <tbody>\n",
       "    <tr>\n",
       "      <th>0</th>\n",
       "      <td>2</td>\n",
       "      <td>4</td>\n",
       "      <td>9</td>\n",
       "      <td>9</td>\n",
       "    </tr>\n",
       "    <tr>\n",
       "      <th>1</th>\n",
       "      <td>7</td>\n",
       "      <td>7</td>\n",
       "      <td>5</td>\n",
       "      <td>7</td>\n",
       "    </tr>\n",
       "    <tr>\n",
       "      <th>2</th>\n",
       "      <td>2</td>\n",
       "      <td>5</td>\n",
       "      <td>7</td>\n",
       "      <td>7</td>\n",
       "    </tr>\n",
       "    <tr>\n",
       "      <th>3</th>\n",
       "      <td>6</td>\n",
       "      <td>4</td>\n",
       "      <td>5</td>\n",
       "      <td>9</td>\n",
       "    </tr>\n",
       "    <tr>\n",
       "      <th>4</th>\n",
       "      <td>3</td>\n",
       "      <td>8</td>\n",
       "      <td>9</td>\n",
       "      <td>9</td>\n",
       "    </tr>\n",
       "    <tr>\n",
       "      <th>...</th>\n",
       "      <td>...</td>\n",
       "      <td>...</td>\n",
       "      <td>...</td>\n",
       "      <td>...</td>\n",
       "    </tr>\n",
       "    <tr>\n",
       "      <th>1365</th>\n",
       "      <td>4</td>\n",
       "      <td>3</td>\n",
       "      <td>3</td>\n",
       "      <td>5</td>\n",
       "    </tr>\n",
       "    <tr>\n",
       "      <th>1366</th>\n",
       "      <td>3</td>\n",
       "      <td>3</td>\n",
       "      <td>4</td>\n",
       "      <td>5</td>\n",
       "    </tr>\n",
       "    <tr>\n",
       "      <th>1367</th>\n",
       "      <td>5</td>\n",
       "      <td>4</td>\n",
       "      <td>3</td>\n",
       "      <td>5</td>\n",
       "    </tr>\n",
       "    <tr>\n",
       "      <th>1368</th>\n",
       "      <td>3</td>\n",
       "      <td>3</td>\n",
       "      <td>2</td>\n",
       "      <td>5</td>\n",
       "    </tr>\n",
       "    <tr>\n",
       "      <th>1369</th>\n",
       "      <td>5</td>\n",
       "      <td>3</td>\n",
       "      <td>5</td>\n",
       "      <td>5</td>\n",
       "    </tr>\n",
       "  </tbody>\n",
       "</table>\n",
       "<p>1336 rows × 4 columns</p>\n",
       "</div>"
      ],
      "text/plain": [
       "      count_vocab_namaoutput  count_vocab_namaoutcome  \\\n",
       "0                          2                        4   \n",
       "1                          7                        7   \n",
       "2                          2                        5   \n",
       "3                          6                        4   \n",
       "4                          3                        8   \n",
       "...                      ...                      ...   \n",
       "1365                       4                        3   \n",
       "1366                       3                        3   \n",
       "1367                       5                        4   \n",
       "1368                       3                        3   \n",
       "1369                       5                        3   \n",
       "\n",
       "      count_vocab_namakegiatan  count_vocab_namaprogram  \n",
       "0                            9                        9  \n",
       "1                            5                        7  \n",
       "2                            7                        7  \n",
       "3                            5                        9  \n",
       "4                            9                        9  \n",
       "...                        ...                      ...  \n",
       "1365                         3                        5  \n",
       "1366                         4                        5  \n",
       "1367                         3                        5  \n",
       "1368                         2                        5  \n",
       "1369                         5                        5  \n",
       "\n",
       "[1336 rows x 4 columns]"
      ]
     },
     "execution_count": 131,
     "metadata": {},
     "output_type": "execute_result"
    }
   ],
   "source": [
    "data[['count_vocab_namaoutput', 'count_vocab_namaoutcome', 'count_vocab_namakegiatan', 'count_vocab_namaprogram']]"
   ]
  },
  {
   "cell_type": "code",
   "execution_count": 132,
   "metadata": {},
   "outputs": [
    {
     "data": {
      "text/html": [
       "<div>\n",
       "<style scoped>\n",
       "    .dataframe tbody tr th:only-of-type {\n",
       "        vertical-align: middle;\n",
       "    }\n",
       "\n",
       "    .dataframe tbody tr th {\n",
       "        vertical-align: top;\n",
       "    }\n",
       "\n",
       "    .dataframe thead th {\n",
       "        text-align: right;\n",
       "    }\n",
       "</style>\n",
       "<table border=\"1\" class=\"dataframe\">\n",
       "  <thead>\n",
       "    <tr style=\"text-align: right;\">\n",
       "      <th></th>\n",
       "      <th>Class</th>\n",
       "      <th>tahunanggaran</th>\n",
       "      <th>kodefungsi</th>\n",
       "      <th>namafungsi</th>\n",
       "      <th>kodeurusanprogram</th>\n",
       "      <th>namaurusanprogram</th>\n",
       "      <th>kodeurusanpelaksana</th>\n",
       "      <th>namaurusanpelaksana</th>\n",
       "      <th>kodeskpd</th>\n",
       "      <th>namaskpd</th>\n",
       "      <th>...</th>\n",
       "      <th>namasumberdana</th>\n",
       "      <th>nilaianggaran</th>\n",
       "      <th>clean_namaoutcome</th>\n",
       "      <th>clean_namaoutput</th>\n",
       "      <th>clean_namaprogram</th>\n",
       "      <th>clean_namakegiatan</th>\n",
       "      <th>count_vocab_namaoutput</th>\n",
       "      <th>count_vocab_namaoutcome</th>\n",
       "      <th>count_vocab_namakegiatan</th>\n",
       "      <th>count_vocab_namaprogram</th>\n",
       "    </tr>\n",
       "  </thead>\n",
       "  <tbody>\n",
       "    <tr>\n",
       "      <th>385</th>\n",
       "      <td>0</td>\n",
       "      <td>2019</td>\n",
       "      <td>7</td>\n",
       "      <td>Kesehatan</td>\n",
       "      <td>102</td>\n",
       "      <td>Kesehatan</td>\n",
       "      <td>102</td>\n",
       "      <td>Kesehatan</td>\n",
       "      <td>102</td>\n",
       "      <td>RSUD Panembahan Senopati</td>\n",
       "      <td>...</td>\n",
       "      <td>APBD Kabupaten/Kota</td>\n",
       "      <td>1.411981e+09</td>\n",
       "      <td>borbto</td>\n",
       "      <td>terlaksananya kegiatan publikasi dan promosi d...</td>\n",
       "      <td>program pengadaan peningkatan sarana dan prasa...</td>\n",
       "      <td>pengadaan sarana dan prasarana rumah sakit lai...</td>\n",
       "      <td>19</td>\n",
       "      <td>0</td>\n",
       "      <td>7</td>\n",
       "      <td>16</td>\n",
       "    </tr>\n",
       "    <tr>\n",
       "      <th>453</th>\n",
       "      <td>0</td>\n",
       "      <td>2019</td>\n",
       "      <td>3</td>\n",
       "      <td>Ketertiban dan ketentraman</td>\n",
       "      <td>105</td>\n",
       "      <td>Ketentraman, Ketertiban Umum dan Perlindungan ...</td>\n",
       "      <td>105</td>\n",
       "      <td>Ketentraman, Ketertiban Umum dan Perlindungan ...</td>\n",
       "      <td>105</td>\n",
       "      <td>Kantor Kesatuan Bangsa dan Politik</td>\n",
       "      <td>...</td>\n",
       "      <td>APBD Kabupaten/Kota</td>\n",
       "      <td>8.280000e+07</td>\n",
       "      <td>meningkatnya  pemahaman tentang bahaya narkoba</td>\n",
       "      <td>rakersosialisasi</td>\n",
       "      <td>program peningkatan pemberantasan penyakit mas...</td>\n",
       "      <td>pencegahan penyalahgunaan narkoba</td>\n",
       "      <td>0</td>\n",
       "      <td>5</td>\n",
       "      <td>3</td>\n",
       "      <td>5</td>\n",
       "    </tr>\n",
       "    <tr>\n",
       "      <th>551</th>\n",
       "      <td>0</td>\n",
       "      <td>2019</td>\n",
       "      <td>1</td>\n",
       "      <td>Pelayanan Umum</td>\n",
       "      <td>204</td>\n",
       "      <td>Pertanahan</td>\n",
       "      <td>204</td>\n",
       "      <td>Pertanahan</td>\n",
       "      <td>204</td>\n",
       "      <td>Dinas Pertanahan dan Tata Ruang</td>\n",
       "      <td>...</td>\n",
       "      <td>APBD Kabupaten/Kota,Dana Alokasi Umum</td>\n",
       "      <td>1.101788e+09</td>\n",
       "      <td>kelancaran tugas kantor</td>\n",
       "      <td>droneserver</td>\n",
       "      <td>program peningkatan sarana dan prasarana aparatur</td>\n",
       "      <td>pengadaan peralatan dan perlengkapan</td>\n",
       "      <td>0</td>\n",
       "      <td>3</td>\n",
       "      <td>4</td>\n",
       "      <td>6</td>\n",
       "    </tr>\n",
       "    <tr>\n",
       "      <th>964</th>\n",
       "      <td>0</td>\n",
       "      <td>2019</td>\n",
       "      <td>1</td>\n",
       "      <td>Pelayanan Umum</td>\n",
       "      <td>407</td>\n",
       "      <td>Fungsi Lainnya</td>\n",
       "      <td>407</td>\n",
       "      <td>Fungsi Lainnya</td>\n",
       "      <td>401</td>\n",
       "      <td>Kecamatan Bambanglipuro</td>\n",
       "      <td>...</td>\n",
       "      <td>APBD Kabupaten/Kota</td>\n",
       "      <td>9.000000e+06</td>\n",
       "      <td>tertib pengunjung</td>\n",
       "      <td>pateniumk</td>\n",
       "      <td>program peningkatan pelayanan masyarakat</td>\n",
       "      <td>peningkatan pelayanan masyarakat</td>\n",
       "      <td>0</td>\n",
       "      <td>2</td>\n",
       "      <td>3</td>\n",
       "      <td>4</td>\n",
       "    </tr>\n",
       "    <tr>\n",
       "      <th>1265</th>\n",
       "      <td>0</td>\n",
       "      <td>2019</td>\n",
       "      <td>1</td>\n",
       "      <td>Pelayanan Umum</td>\n",
       "      <td>407</td>\n",
       "      <td>Fungsi Lainnya</td>\n",
       "      <td>407</td>\n",
       "      <td>Fungsi Lainnya</td>\n",
       "      <td>401</td>\n",
       "      <td>Kecamatan Pundong</td>\n",
       "      <td>...</td>\n",
       "      <td>APBD Kabupaten/Kota</td>\n",
       "      <td>4.374400e+07</td>\n",
       "      <td>pelayanan masyarakat yang memuaskan</td>\n",
       "      <td>pateniumk</td>\n",
       "      <td>program peningkatan pelayanan masyarakat</td>\n",
       "      <td>peningkatan pelayanan masyarakat</td>\n",
       "      <td>0</td>\n",
       "      <td>4</td>\n",
       "      <td>3</td>\n",
       "      <td>4</td>\n",
       "    </tr>\n",
       "  </tbody>\n",
       "</table>\n",
       "<p>5 rows × 41 columns</p>\n",
       "</div>"
      ],
      "text/plain": [
       "      Class  tahunanggaran  kodefungsi                  namafungsi  \\\n",
       "385       0           2019           7                   Kesehatan   \n",
       "453       0           2019           3  Ketertiban dan ketentraman   \n",
       "551       0           2019           1              Pelayanan Umum   \n",
       "964       0           2019           1              Pelayanan Umum   \n",
       "1265      0           2019           1              Pelayanan Umum   \n",
       "\n",
       "      kodeurusanprogram                                  namaurusanprogram  \\\n",
       "385                 102                                          Kesehatan   \n",
       "453                 105  Ketentraman, Ketertiban Umum dan Perlindungan ...   \n",
       "551                 204                                         Pertanahan   \n",
       "964                 407                                     Fungsi Lainnya   \n",
       "1265                407                                     Fungsi Lainnya   \n",
       "\n",
       "      kodeurusanpelaksana                                namaurusanpelaksana  \\\n",
       "385                   102                                          Kesehatan   \n",
       "453                   105  Ketentraman, Ketertiban Umum dan Perlindungan ...   \n",
       "551                   204                                         Pertanahan   \n",
       "964                   407                                     Fungsi Lainnya   \n",
       "1265                  407                                     Fungsi Lainnya   \n",
       "\n",
       "      kodeskpd                            namaskpd  ...  \\\n",
       "385        102            RSUD Panembahan Senopati  ...   \n",
       "453        105  Kantor Kesatuan Bangsa dan Politik  ...   \n",
       "551        204     Dinas Pertanahan dan Tata Ruang  ...   \n",
       "964        401             Kecamatan Bambanglipuro  ...   \n",
       "1265       401                   Kecamatan Pundong  ...   \n",
       "\n",
       "                             namasumberdana nilaianggaran  \\\n",
       "385                     APBD Kabupaten/Kota  1.411981e+09   \n",
       "453                     APBD Kabupaten/Kota  8.280000e+07   \n",
       "551   APBD Kabupaten/Kota,Dana Alokasi Umum  1.101788e+09   \n",
       "964                     APBD Kabupaten/Kota  9.000000e+06   \n",
       "1265                    APBD Kabupaten/Kota  4.374400e+07   \n",
       "\n",
       "                                   clean_namaoutcome  \\\n",
       "385                                           borbto   \n",
       "453   meningkatnya  pemahaman tentang bahaya narkoba   \n",
       "551                          kelancaran tugas kantor   \n",
       "964                                tertib pengunjung   \n",
       "1265             pelayanan masyarakat yang memuaskan   \n",
       "\n",
       "                                       clean_namaoutput  \\\n",
       "385   terlaksananya kegiatan publikasi dan promosi d...   \n",
       "453                                    rakersosialisasi   \n",
       "551                                         droneserver   \n",
       "964                                           pateniumk   \n",
       "1265                                          pateniumk   \n",
       "\n",
       "                                      clean_namaprogram  \\\n",
       "385   program pengadaan peningkatan sarana dan prasa...   \n",
       "453   program peningkatan pemberantasan penyakit mas...   \n",
       "551   program peningkatan sarana dan prasarana aparatur   \n",
       "964            program peningkatan pelayanan masyarakat   \n",
       "1265           program peningkatan pelayanan masyarakat   \n",
       "\n",
       "                                     clean_namakegiatan  \\\n",
       "385   pengadaan sarana dan prasarana rumah sakit lai...   \n",
       "453                   pencegahan penyalahgunaan narkoba   \n",
       "551                pengadaan peralatan dan perlengkapan   \n",
       "964                    peningkatan pelayanan masyarakat   \n",
       "1265                   peningkatan pelayanan masyarakat   \n",
       "\n",
       "     count_vocab_namaoutput  count_vocab_namaoutcome count_vocab_namakegiatan  \\\n",
       "385                      19                        0                        7   \n",
       "453                       0                        5                        3   \n",
       "551                       0                        3                        4   \n",
       "964                       0                        2                        3   \n",
       "1265                      0                        4                        3   \n",
       "\n",
       "     count_vocab_namaprogram  \n",
       "385                       16  \n",
       "453                        5  \n",
       "551                        6  \n",
       "964                        4  \n",
       "1265                       4  \n",
       "\n",
       "[5 rows x 41 columns]"
      ]
     },
     "execution_count": 132,
     "metadata": {},
     "output_type": "execute_result"
    }
   ],
   "source": [
    "# Check which instance has full OOV in either namaoutcome, namaoutput, namaprogram, or namakegiatan\n",
    "data[(data['count_vocab_namaoutcome']==0) | (data['count_vocab_namaoutput']==0) | (data['count_vocab_namaprogram']==0) | (data['count_vocab_namakegiatan']==0)]"
   ]
  },
  {
   "cell_type": "code",
   "execution_count": 133,
   "metadata": {},
   "outputs": [],
   "source": [
    "data.drop(data[(data['count_vocab_namaoutcome']==0) | (data['count_vocab_namaoutput']==0) | (data['count_vocab_namaprogram']==0) | (data['count_vocab_namakegiatan']==0)].index, inplace = True)\n"
   ]
  },
  {
   "cell_type": "code",
   "execution_count": 134,
   "metadata": {},
   "outputs": [],
   "source": [
    "sat_outcome_unique = data['satuanoutcome'].str.lower().unique()\n",
    "sat_output_unique = data['satuanoutput'].str.lower().unique()\n",
    "\n",
    "dict_sat_outcome = {}\n",
    "\n",
    "for i in range(len(sat_outcome_unique)):\n",
    "    dict_sat_outcome[sat_outcome_unique[i]] = i\n",
    "    \n",
    "dict_sat_output = {}\n",
    "\n",
    "for j in range(len(sat_output_unique)):\n",
    "    dict_sat_output[sat_output_unique[j]] = j "
   ]
  },
  {
   "cell_type": "code",
   "execution_count": 135,
   "metadata": {},
   "outputs": [],
   "source": [
    "# new keys that are not found in previous dictionary \n",
    "set_diff_key_outcome = set(dict_sat_outcome) - set(dict_satuanoutcome_big)\n",
    "set_diff_key_output = set(dict_sat_output) - set(dict_satuanoutput_big)\n",
    "\n",
    "max_value_outcome = max(dict_satuanoutcome_big.values())\n",
    "max_value_output = max(dict_satuanoutput_big.values())\n",
    "\n",
    "list_diff_key_outcome = list(set_diff_key_outcome)\n",
    "list_diff_key_output = list(set_diff_key_output)"
   ]
  },
  {
   "cell_type": "code",
   "execution_count": 136,
   "metadata": {},
   "outputs": [],
   "source": [
    "# add new keys to big dictionary\n",
    "for i in range(len(list_diff_key_outcome)):\n",
    "    dict_satuanoutcome_big[list_diff_key_outcome[i]] = i + max_value_outcome + 1\n",
    "    \n",
    "for j in range(len(list_diff_key_output)):\n",
    "    dict_satuanoutput_big[list_diff_key_output[j]] = j + max_value_output + 1    "
   ]
  },
  {
   "cell_type": "code",
   "execution_count": 137,
   "metadata": {},
   "outputs": [],
   "source": [
    "data['label_satuanoutcome'] = data['satuanoutcome'].str.lower().apply(lambda x : dict_satuanoutcome_big[x])\n",
    "data['label_satuanoutput'] = data['satuanoutput'].str.lower().apply(lambda x : dict_satuanoutput_big[x])"
   ]
  },
  {
   "cell_type": "code",
   "execution_count": 138,
   "metadata": {},
   "outputs": [],
   "source": [
    "np.save('dict_satuanoutcome.npy', dict_sat_outcome) \n",
    "np.save('dict_satuanoutput.npy', dict_sat_output) "
   ]
  },
  {
   "cell_type": "code",
   "execution_count": 139,
   "metadata": {},
   "outputs": [],
   "source": [
    "def get_label_satuan_outcome(df):\n",
    "    return df['label_satuanoutcome']\n",
    "\n",
    "def get_label_satuan_output(df):\n",
    "    return df['label_satuanoutput']\n",
    "\n",
    "def get_text_satuan_outcome(df):\n",
    "    return df['satuanoutcome']\n",
    "\n",
    "def get_text_satuan_output(df):\n",
    "    return df['satuanoutput']\n",
    "\n",
    "def get_text_nama_program(df):\n",
    "    return df['clean_namaprogram']\n",
    "\n",
    "def get_text_nama_kegiatan(df):\n",
    "    return df['clean_namakegiatan']\n",
    "\n",
    "def get_text_nama_output(df):\n",
    "    return df['clean_namaoutput']\n",
    "\n",
    "def get_text_nama_outcome(df):\n",
    "    return df['clean_namaoutcome']"
   ]
  },
  {
   "cell_type": "code",
   "execution_count": 140,
   "metadata": {},
   "outputs": [],
   "source": [
    "class LabelMappingTransform():\n",
    "    def fit(self, X, y = None):\n",
    "        return self\n",
    "    \n",
    "    def transform(self, X, y = None):\n",
    "        return np.array(X).reshape(-1, 1)\n",
    "    \n",
    "    def fit_transform(self, X, y=None, **fit_params):\n",
    "        self.fit(X, y, **fit_params)\n",
    "        return self.transform(X).reshape(-1, 1)"
   ]
  },
  {
   "cell_type": "code",
   "execution_count": 141,
   "metadata": {},
   "outputs": [],
   "source": [
    "class SentenceEmbeddingTransform():\n",
    "    def __init__(self, vocab, W_norm):\n",
    "        self.W_norm = W_norm\n",
    "        self.vocab = vocab\n",
    "    \n",
    "    def fit(self, X, y = None):\n",
    "        return self\n",
    "    \n",
    "    def mean_of_word_embedding(self, input_term):\n",
    "        words_inDict = np.empty([0])\n",
    "        \n",
    "        for idx, term in enumerate(re.split(' +', input_term)):\n",
    "            if term in self.vocab:\n",
    "                words_inDict = np.append(words_inDict, term)\n",
    "                \n",
    "        vec_sentence_embed = [self.W_norm[self.vocab[y], :] for y in words_inDict]\n",
    "        vec_sentence_embed_stack = np.vstack(vec_sentence_embed)\n",
    "        vec_sentence_embed_stack_mean = np.mean(vec_sentence_embed_stack, axis=0)\n",
    "        \n",
    "        return vec_sentence_embed_stack_mean\n",
    "    \n",
    "    def transform(self, X, y = None):\n",
    "        ret_array = []\n",
    "        \n",
    "        for sentence in X:\n",
    "            arr_result = self.mean_of_word_embedding(sentence.lower())\n",
    "            ret_array.append(arr_result)\n",
    "\n",
    "        return np.array(ret_array)\n",
    "    \n",
    "    def fit_transform(self, X, y=None, **fit_params):\n",
    "        self.fit(X, y, **fit_params)\n",
    "        return self.transform(X)"
   ]
  },
  {
   "cell_type": "code",
   "execution_count": 152,
   "metadata": {},
   "outputs": [],
   "source": [
    "joblib_model = joblib.load('mowe_pipeline_model.pkl')"
   ]
  },
  {
   "cell_type": "code",
   "execution_count": 153,
   "metadata": {},
   "outputs": [],
   "source": [
    "data_column_used = data[['clean_namaprogram', 'label_satuanoutcome', 'label_satuanoutput', 'clean_namakegiatan', 'clean_namaoutput', 'clean_namaoutcome', 'satuanoutcome', 'satuanoutput']]\n",
    "data_target = data['Class'].astype(int)"
   ]
  },
  {
   "cell_type": "code",
   "execution_count": 154,
   "metadata": {},
   "outputs": [],
   "source": [
    "labels_pred = joblib_model.predict(data_column_used)"
   ]
  },
  {
   "cell_type": "code",
   "execution_count": 155,
   "metadata": {},
   "outputs": [
    {
     "data": {
      "text/plain": [
       "<matplotlib.axes._subplots.AxesSubplot at 0x1e5f5248cf8>"
      ]
     },
     "execution_count": 155,
     "metadata": {},
     "output_type": "execute_result"
    },
    {
     "data": {
      "image/png": "[encoded data removed]",
      "text/plain": [
       "<Figure size 432x288 with 1 Axes>"
      ]
     },
     "metadata": {
      "needs_background": "light"
     },
     "output_type": "display_data"
    }
   ],
   "source": [
    "from sklearn.metrics import confusion_matrix\n",
    "import seaborn as sns\n",
    "import matplotlib as plt\n",
    "mat = confusion_matrix(labels_pred, data_target)\n",
    "\n",
    "sns.heatmap(mat.T, square=True, annot=True, fmt='d', cbar=False,\n",
    "            xticklabels=['0', '1'], yticklabels=['0', '1'])"
   ]
  },
  {
   "cell_type": "code",
   "execution_count": 156,
   "metadata": {},
   "outputs": [
    {
     "data": {
      "text/plain": [
       "0.8249436513899324"
      ]
     },
     "execution_count": 156,
     "metadata": {},
     "output_type": "execute_result"
    }
   ],
   "source": [
    "from sklearn.metrics import accuracy_score\n",
    "\n",
    "accuracy_score(labels_pred, data_target)"
   ]
  },
  {
   "cell_type": "code",
   "execution_count": 157,
   "metadata": {},
   "outputs": [
    {
     "name": "stdout",
     "output_type": "stream",
     "text": [
      "              precision    recall  f1-score   support\n",
      "\n",
      "     non-doc       0.91      0.88      0.90      1136\n",
      "         doc       0.42      0.50      0.46       195\n",
      "\n",
      "    accuracy                           0.82      1331\n",
      "   macro avg       0.67      0.69      0.68      1331\n",
      "weighted avg       0.84      0.82      0.83      1331\n",
      "\n"
     ]
    }
   ],
   "source": [
    "from sklearn.metrics import classification_report\n",
    "\n",
    "print (classification_report(labels_pred, data_target, target_names=['non-doc', 'doc']))"
   ]
  },
  {
   "cell_type": "code",
   "execution_count": 122,
   "metadata": {},
   "outputs": [
    {
     "data": {
      "text/plain": [
       "array([-0.06196977, -0.00393903,  0.01770568, -0.05676477,  0.01764832,\n",
       "        0.03021944,  0.01863831, -0.05012345,  0.0493389 ,  0.01655691,\n",
       "        0.06986188, -0.14798748,  0.19207864,  0.06548372,  0.07526362,\n",
       "       -0.09689186, -0.13094664,  0.13874052, -0.2001157 ,  0.09520076,\n",
       "       -0.14354427, -0.08548335,  0.01985668, -0.0265541 , -0.05156838,\n",
       "       -0.05892335, -0.04555521, -0.02342977,  0.19557141, -0.13340947,\n",
       "        0.12283193, -0.00347276,  0.03522426, -0.08769655,  0.21600244,\n",
       "       -0.21297604,  0.03578212, -0.10618775, -0.01800328, -0.0834281 ])"
      ]
     },
     "execution_count": 122,
     "metadata": {},
     "output_type": "execute_result"
    }
   ],
   "source": [
    "from sklearn.preprocessing import FunctionTransformer\n",
    "\n",
    "transformer = SentenceEmbeddingTransform(vocab, W_norm)\n",
    "\n",
    "tr = transformer.transform(data['clean_namaoutcome'])\n",
    "\n",
    "tr[0]"
   ]
  },
  {
   "cell_type": "code",
   "execution_count": 115,
   "metadata": {},
   "outputs": [
    {
     "data": {
      "text/plain": [
       "'terlapornya capaian kinerja skpd'"
      ]
     },
     "execution_count": 115,
     "metadata": {},
     "output_type": "execute_result"
    }
   ],
   "source": [
    "data['clean_namaoutcome'][0]"
   ]
  },
  {
   "cell_type": "code",
   "execution_count": 117,
   "metadata": {},
   "outputs": [
    {
     "data": {
      "text/plain": [
       "array([[-0.06196977, -0.00393903,  0.01770568, -0.05676477,  0.01764832,\n",
       "         0.03021944,  0.01863831, -0.05012345,  0.0493389 ,  0.01655691,\n",
       "         0.06986188, -0.14798748,  0.19207864,  0.06548372,  0.07526362,\n",
       "        -0.09689186, -0.13094664,  0.13874052, -0.2001157 ,  0.09520076,\n",
       "        -0.14354427, -0.08548335,  0.01985668, -0.0265541 , -0.05156838,\n",
       "        -0.05892335, -0.04555521, -0.02342977,  0.19557141, -0.13340947,\n",
       "         0.12283193, -0.00347276,  0.03522426, -0.08769655,  0.21600244,\n",
       "        -0.21297604,  0.03578212, -0.10618775, -0.01800328, -0.0834281 ]])"
      ]
     },
     "execution_count": 117,
     "metadata": {},
     "output_type": "execute_result"
    }
   ],
   "source": [
    "transformer.transform(['terlapornya capaian kinerja skpd'])"
   ]
  },
  {
   "cell_type": "code",
   "execution_count": null,
   "metadata": {},
   "outputs": [],
   "source": []
  }
 ],
 "metadata": {
  "kernelspec": {
   "display_name": "Python 3",
   "language": "python",
   "name": "python3"
  },
  "language_info": {
   "codemirror_mode": {
    "name": "ipython",
    "version": 3
   },
   "file_extension": ".py",
   "mimetype": "text/x-python",
   "name": "python",
   "nbconvert_exporter": "python",
   "pygments_lexer": "ipython3",
   "version": "3.7.3"
  }
 },
 "nbformat": 4,
 "nbformat_minor": 4
}
